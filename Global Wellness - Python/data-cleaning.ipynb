{
 "cells": [
  {
   "cell_type": "code",
   "execution_count": null,
   "id": "5db09a73-39fd-470f-b117-d056a9f49a58",
   "metadata": {},
   "outputs": [],
   "source": [
    "import pandas as pd\n",
    "import numpy as np\n",
    "import re\n",
    "from functools import reduce"
   ]
  },
  {
   "cell_type": "code",
   "execution_count": null,
   "id": "17b2cabd-840a-49cc-aa58-250431f736c9",
   "metadata": {},
   "outputs": [],
   "source": [
    "# testing csv file reading\n",
    "\n",
    "energy_intensity = pd.read_csv('data_yearly/energy_intensity_primarysource_gdp_yearly.csv',\n",
    "                        na_values=['...', np.nan])\n",
    "energy_intensity"
   ]
  },
  {
   "cell_type": "code",
   "execution_count": null,
   "id": "b650e46e-44c4-4b1a-9283-5a6646f7086d",
   "metadata": {},
   "outputs": [],
   "source": [
    "# testing pd.melt\n",
    "\n",
    "energy_intensity = pd.melt(energy_intensity, \n",
    "                           id_vars=[\"CountryID\", \"Country and area\"], \n",
    "                           var_name = 'Year', \n",
    "                           value_name='Energy Intensity by Power Source and GDP')\n",
    "\n",
    "energy_intensity.columns = energy_intensity.columns.str.replace('Country and area','Country')"
   ]
  },
  {
   "cell_type": "code",
   "execution_count": null,
   "id": "5e6d8f50-40a8-47e1-9e43-922d2cd11c81",
   "metadata": {},
   "outputs": [],
   "source": [
    "# Make year items into integers and sort DF by Country and Year\n",
    "\n",
    "energy_intensity['Year'] = energy_intensity['Year'].astype(int)\n",
    "energy_intensity = energy_intensity.sort_values(['Country','Year'])\n",
    "energy_intensity"
   ]
  },
  {
   "cell_type": "code",
   "execution_count": null,
   "id": "2e935b20-5c48-4824-b602-d46da854f943",
   "metadata": {},
   "outputs": [],
   "source": [
    "#seeing count of unique countries\n",
    "\n",
    "len(energy_intensity.Country.unique())"
   ]
  },
  {
   "cell_type": "code",
   "execution_count": null,
   "id": "e6e0f050-6ca6-4f41-bd62-33e5f0b7a03c",
   "metadata": {},
   "outputs": [],
   "source": [
    "# removing NaN values\n",
    "\n",
    "sum(np.sum(energy_intensity.isnull()))"
   ]
  },
  {
   "cell_type": "code",
   "execution_count": null,
   "id": "ec67d013-d9f2-4669-8d0f-9cdb1a700560",
   "metadata": {},
   "outputs": [],
   "source": [
    "mask = energy_intensity.isnull().any(axis=1)\n",
    "missing = energy_intensity.loc[mask,:]\n",
    "missing"
   ]
  },
  {
   "cell_type": "code",
   "execution_count": null,
   "id": "7cac2151-04d9-4e3a-92b7-92af9a29629a",
   "metadata": {},
   "outputs": [],
   "source": [
    "index_todrop = energy_intensity[\n",
    "    (energy_intensity['CountryID'] == 534) \n",
    "    & (energy_intensity['CountryID'] == 728)].index"
   ]
  },
  {
   "cell_type": "code",
   "execution_count": null,
   "id": "4e8328e2-6a98-443b-90cd-aa34e31dc3e8",
   "metadata": {},
   "outputs": [],
   "source": [
    "energy_intensity.drop(index_todrop, inplace=True)"
   ]
  },
  {
   "cell_type": "code",
   "execution_count": null,
   "id": "715fc0f3-9118-4cc7-83d7-5e9e516abe87",
   "metadata": {},
   "outputs": [],
   "source": [
    "energy_intensity[(energy_intensity['CountryID'] == 499)].replace(np.nan,'5.92')"
   ]
  },
  {
   "cell_type": "code",
   "execution_count": null,
   "id": "2bb45696-118f-49de-9538-2ad98e1819d4",
   "metadata": {},
   "outputs": [],
   "source": [
    "energy_intensity[(energy_intensity['CountryID'] == 499)] = energy_intensity[(energy_intensity['CountryID'] == 499)].replace(np.nan,'5.92')"
   ]
  },
  {
   "cell_type": "code",
   "execution_count": null,
   "id": "f96b9e21-4ae8-4b62-9ddb-0513fe1884cf",
   "metadata": {},
   "outputs": [],
   "source": [
    "energy_intensity.dtypes"
   ]
  },
  {
   "cell_type": "code",
   "execution_count": null,
   "id": "0ad41050-5d89-4e07-a561-91361cfa4859",
   "metadata": {},
   "outputs": [],
   "source": [
    "energy_intensity['Country'] = energy_intensity['Country'].astype(str)\n",
    "energy_intensity['Year'] = energy_intensity['Year'].astype(int)\n",
    "# energy_intensity['Energy Intensity by Power Source and GDP'] = energy_intensity['Energy Intensity by Power Source and GDP'].str.replace(r' \\D+', '', regex=True)\n",
    "energy_intensity['Energy Intensity by Power Source and GDP'] = pd.to_numeric(energy_intensity['Energy Intensity by Power Source and GDP'])"
   ]
  },
  {
   "cell_type": "code",
   "execution_count": null,
   "id": "0d0f920a-0f16-4904-8c6a-87d1d86c0ed0",
   "metadata": {},
   "outputs": [],
   "source": [
    "energy_intensity.dtypes"
   ]
  },
  {
   "cell_type": "code",
   "execution_count": null,
   "id": "91673705-bab9-413f-827e-2d5dc76b812e",
   "metadata": {},
   "outputs": [],
   "source": [
    "# Set Country ID numbers as index and drop NaN rows\n",
    "\n",
    "energy_intensity.set_index('CountryID')\n",
    "energy_intensity = energy_intensity.dropna()"
   ]
  },
  {
   "cell_type": "code",
   "execution_count": null,
   "id": "650b8663-07ea-4b06-a752-6b42114c0cf2",
   "metadata": {},
   "outputs": [],
   "source": [
    "# same process as above for all other dfs\n",
    "\n",
    "energy_supply_pc = pd.read_csv('data_yearly/energy_supply_per_capita_yearly.csv', \n",
    "                               na_values=['...', np.nan])\n",
    "energy_supply_pc = pd.melt(energy_supply_pc, \n",
    "                           id_vars=[\"CountryID\", \"Country and area\"], \n",
    "                           var_name = 'Year', \n",
    "                           value_name='Energy Supply Per Capita')"
   ]
  },
  {
   "cell_type": "code",
   "execution_count": null,
   "id": "125df406-7887-4d12-ab7f-43c7af5bd24c",
   "metadata": {},
   "outputs": [],
   "source": [
    "energy_supply_pc['Year'] = energy_supply_pc['Year'].astype(int)\n",
    "energy_supply_pc = energy_supply_pc.sort_values(['Country','Year'])\n",
    "energy_supply_pc.set_index('CountryID')\n",
    "energy_supply_pc = energy_supply_pc.dropna()\n",
    "energy_supply_pc"
   ]
  },
  {
   "cell_type": "code",
   "execution_count": null,
   "id": "6615601b-1571-434f-a946-c89b8ceac3d3",
   "metadata": {},
   "outputs": [],
   "source": [
    "energy_supply_pc.dtypes"
   ]
  },
  {
   "cell_type": "code",
   "execution_count": null,
   "id": "74b5e048-99bd-462d-b9c1-2b80188fdb0d",
   "metadata": {},
   "outputs": [],
   "source": [
    "energy_supply_pc.columns = energy_supply_pc.columns.str.replace('Country and area','Country')\n",
    "energy_supply_pc['Year'] = energy_supply_pc['Year'].astype(int)"
   ]
  },
  {
   "cell_type": "code",
   "execution_count": null,
   "id": "eb5d2e0e-fb34-4da1-9ba5-077182a6b3e5",
   "metadata": {},
   "outputs": [],
   "source": [
    "# Searching for NaN values  ----- decided to wait until after topic merge\n",
    "\n",
    "# sum(np.sum(energy_supply_pc.isnull()))"
   ]
  },
  {
   "cell_type": "code",
   "execution_count": null,
   "id": "3c22768b-d1c9-44d2-9b50-d05ea149a940",
   "metadata": {},
   "outputs": [],
   "source": [
    "# mask = energy_supply_pc.isnull().any(axis = 1)\n",
    "# missing = energy_supply_pc.loc[mask,:]\n",
    "# missing"
   ]
  },
  {
   "cell_type": "code",
   "execution_count": null,
   "id": "c1a65932-a37b-4cee-b1fb-81b44dedb018",
   "metadata": {},
   "outputs": [],
   "source": [
    "# missing.CountryID.unique()"
   ]
  },
  {
   "cell_type": "code",
   "execution_count": null,
   "id": "a20df733-63f5-4cd1-a82f-64a9ce08d45f",
   "metadata": {},
   "outputs": [],
   "source": [
    "# missing['Country'].describe()"
   ]
  },
  {
   "cell_type": "code",
   "execution_count": null,
   "id": "fb8e2437-d50f-4ea1-8bb5-e2ba81da5e4d",
   "metadata": {},
   "outputs": [],
   "source": [
    "# could not get dropna to stick --- row count stays consistent (see below). Will try dropna after topic merge\n",
    "\n",
    "# energy_supply_pc = energy_supply_pc.dropna(inplace = True)"
   ]
  },
  {
   "cell_type": "code",
   "execution_count": null,
   "id": "1ad386af-0b2f-4469-9b32-5973dc968476",
   "metadata": {},
   "outputs": [],
   "source": [
    "energy_supply_pc.dtypes"
   ]
  },
  {
   "cell_type": "code",
   "execution_count": null,
   "id": "45f35cb2-50ed-499f-8bdb-a8879a235072",
   "metadata": {},
   "outputs": [],
   "source": [
    "# Same work for \n",
    "\n",
    "energy_supply = pd.read_csv('data_yearly/energy_supply_yearly.csv', na_values = ['...',np.nan])\n",
    "energy_supply = pd.melt(energy_supply, \n",
    "                        id_vars=[\"CountryID\", \"Country and area\"], \n",
    "                        var_name = 'Year', \n",
    "                        value_name='Energy Supply')\n",
    "energy_supply.columns = energy_supply.columns.str.replace('Country and area','Country')\n",
    "energy_supply['Year'] = energy_supply['Year'].astype(int)\n",
    "energy_supply = energy_supply.sort_values(['Country','Year'])\n",
    "energy_supply.set_index('CountryID')\n",
    "energy_supply = energy_supply.dropna()\n",
    "energy_supply"
   ]
  },
  {
   "cell_type": "code",
   "execution_count": null,
   "id": "005466e1-1c90-420f-b334-7160f26b1b13",
   "metadata": {},
   "outputs": [],
   "source": [
    "energy_supply.dtypes"
   ]
  },
  {
   "cell_type": "code",
   "execution_count": null,
   "id": "ce33285a-61d1-465e-920e-5502635b9440",
   "metadata": {},
   "outputs": [],
   "source": [
    "# missing = energy_supply[energy_supply.isna().any(axis=1)]\n",
    "# missing.Country.describe()"
   ]
  },
  {
   "cell_type": "code",
   "execution_count": null,
   "id": "10d25e68-d15c-427b-a85f-c8d247b448b8",
   "metadata": {},
   "outputs": [],
   "source": [
    "evapotran = pd.read_csv('data_yearly/evapotranspiration_yearly.csv', \n",
    "                        na_values=['...',np.nan])\n",
    "evapotran = pd.melt(evapotran, \n",
    "                    id_vars=[\"CountryID\", \"Country\"], \n",
    "                    var_name = 'Year', \n",
    "                    value_name='Evapotranspiration')\n",
    "evapotran['Year'] = evapotran['Year'].astype(int)\n",
    "evapotran = evapotran.sort_values(['Country','Year'])\n",
    "evapotran.set_index('CountryID')\n",
    "evapotran = evapotran.dropna()\n",
    "evapotran"
   ]
  },
  {
   "cell_type": "code",
   "execution_count": null,
   "id": "a1935537-d845-4988-9bf4-8e6af60db033",
   "metadata": {},
   "outputs": [],
   "source": [
    "len(evapotran.CountryID.unique())"
   ]
  },
  {
   "cell_type": "code",
   "execution_count": null,
   "id": "9c5af163-9a35-40d1-9b20-f5af92dd0c81",
   "metadata": {},
   "outputs": [],
   "source": [
    "evapotran.dtypes"
   ]
  },
  {
   "cell_type": "code",
   "execution_count": null,
   "id": "20202c22-b83d-4593-aee4-97b8429b9baa",
   "metadata": {},
   "outputs": [],
   "source": [
    "# missing = evapotran[evapotran.isna()]\n",
    "# missing.Country.describe()"
   ]
  },
  {
   "cell_type": "code",
   "execution_count": null,
   "id": "b70226ef-a986-4f24-b120-540650640537",
   "metadata": {},
   "outputs": [],
   "source": [
    "freshwater = pd.read_csv('data_yearly/freshwater_yearly.csv',\n",
    "                         na_values=['...','…',np.nan])\n",
    "freshwater = pd.melt(freshwater, \n",
    "                     id_vars=[\"CountryID\", \"Country\"], \n",
    "                     var_name = 'Year',\n",
    "                     value_name='Freshwater')\n",
    "freshwater.dtypes"
   ]
  },
  {
   "cell_type": "code",
   "execution_count": null,
   "id": "99b3cfc7-cd22-4519-a441-a24f2f382190",
   "metadata": {},
   "outputs": [],
   "source": [
    "freshwater['Year'] = freshwater.Year.astype(int)\n",
    "freshwater['Freshwater'] = pd.to_numeric(freshwater['Freshwater'])\n",
    "freshwater = freshwater.sort_values(['Country','Year'])\n",
    "freshwater.set_index('CountryID')\n",
    "freshwater = freshwater.dropna()\n",
    "freshwater"
   ]
  },
  {
   "cell_type": "code",
   "execution_count": null,
   "id": "2903d157-6ce4-46a6-966c-4eb2379a2ff3",
   "metadata": {},
   "outputs": [],
   "source": [
    "freshwater.dtypes"
   ]
  },
  {
   "cell_type": "code",
   "execution_count": null,
   "id": "95050b0b-3082-4e4c-ae2c-cb2e242849dd",
   "metadata": {},
   "outputs": [],
   "source": [
    "freshwater.Country.describe()"
   ]
  },
  {
   "cell_type": "code",
   "execution_count": null,
   "id": "b4eb90e6-0b1f-49d5-ad63-a84344c74e46",
   "metadata": {},
   "outputs": [],
   "source": [
    "len(freshwater[freshwater.isna().any(axis=1)])"
   ]
  },
  {
   "cell_type": "code",
   "execution_count": null,
   "id": "11eda0ec-549e-4b83-b494-afe7875c2d94",
   "metadata": {},
   "outputs": [],
   "source": [
    "freshwater = freshwater.dropna()"
   ]
  },
  {
   "cell_type": "code",
   "execution_count": null,
   "id": "ce407cbb-347c-463c-9480-85339b585e5d",
   "metadata": {},
   "outputs": [],
   "source": [
    "freshwater"
   ]
  },
  {
   "cell_type": "code",
   "execution_count": null,
   "id": "9dbcb6e0-9e5b-4cc3-a8b8-2a3d3607f316",
   "metadata": {},
   "outputs": [],
   "source": [
    "# freshwater['Year'] = freshwater['Year'].astype(int)\n",
    "# freshwater['Freshwater'] = freshwater['Freshwater'].str.replace(r'\\D+', '', regex=True)\n",
    "# freshwater['Freshwater'] = pd.to_numeric(freshwater['Freshwater'])\n",
    "# freshwater.dtypes"
   ]
  },
  {
   "cell_type": "code",
   "execution_count": null,
   "id": "82ea95f3-2d71-4265-84ec-c0851d9e996a",
   "metadata": {},
   "outputs": [],
   "source": [
    "# trying out StringIO\n",
    "ghg = pd.read_csv('data_yearly/ghg_emissions_yearly.csv',\n",
    "                  na_values=['...',np.nan])\n",
    "ghg = pd.melt(ghg, \n",
    "              id_vars=[\"CountryID\", \"Country\"], \n",
    "              var_name = 'Year', \n",
    "              value_name='GHG Emissions')\n",
    "ghg"
   ]
  },
  {
   "cell_type": "code",
   "execution_count": null,
   "id": "9f458ff5-ac0d-4926-ba40-28398a209623",
   "metadata": {},
   "outputs": [],
   "source": [
    "ghg.dtypes"
   ]
  },
  {
   "cell_type": "code",
   "execution_count": null,
   "id": "d872b756-ca8f-4870-ab74-2ecb50d8036d",
   "metadata": {},
   "outputs": [],
   "source": [
    "# Turning floats to string, using regex to remove commas, and turn back to floats\n",
    "\n",
    "\n",
    "ghg['GHG Emissions'] = ghg['GHG Emissions'].astype(str)\n",
    "\n",
    "ghg['GHG Emissions'] = ghg['GHG Emissions'].str.replace(r',', '', regex=True)\n",
    "\n",
    "ghg['GHG Emissions'] = ghg['GHG Emissions'].astype(float)"
   ]
  },
  {
   "cell_type": "code",
   "execution_count": null,
   "id": "37eb0040-5d6c-4aa0-ae32-7dcaad79ddf7",
   "metadata": {},
   "outputs": [],
   "source": [
    "# Understanding content types in GHG Emissions\n",
    "\n",
    "\n",
    "# for item in ghg['GHG Emissions']:\n",
    "#     if isinstance(item,str):\n",
    "#        print('yes')\n",
    "#     else:\n",
    "#        print('')"
   ]
  },
  {
   "cell_type": "code",
   "execution_count": null,
   "id": "4bc80002-e72b-4a38-8df8-d32d44e32d0d",
   "metadata": {},
   "outputs": [],
   "source": [
    "ghg['Year'] = ghg['Year'].astype(int)\n",
    "ghg = ghg.sort_values(['Country','Year'])\n",
    "ghg.set_index('CountryID')\n",
    "ghg = ghg.dropna()\n",
    "ghg"
   ]
  },
  {
   "cell_type": "code",
   "execution_count": null,
   "id": "535f6b10-1bdb-4cbd-9821-14bdfcbd38fc",
   "metadata": {},
   "outputs": [],
   "source": []
  },
  {
   "cell_type": "code",
   "execution_count": null,
   "id": "8ae0b72d-657c-462b-bd87-9ebd920fad81",
   "metadata": {},
   "outputs": [],
   "source": [
    "nt_ww = pd.read_csv('data_yearly/nontreated_wastewater_yearly.csv', \n",
    "                    na_values=('...',np.nan))\n",
    "nt_ww = pd.melt(nt_ww, \n",
    "                id_vars=[\"CountryID\", \"Country\"], \n",
    "                var_name = 'Year', \n",
    "                value_name='Non-treated Wastewater')\n",
    "nt_ww['Year'] = nt_ww['Year'].astype(int)\n",
    "nt_ww = nt_ww.sort_values(['Country','Year'])\n",
    "nt_ww.set_index('CountryID')\n",
    "nt_ww = nt_ww.dropna()\n",
    "nt_ww"
   ]
  },
  {
   "cell_type": "code",
   "execution_count": null,
   "id": "ec33af0a-cdba-47d4-85e3-744ab09b7083",
   "metadata": {},
   "outputs": [],
   "source": [
    "hazard_waste =  pd.read_csv('data_yearly/percent_haz_waste_treated_relative_to_generated.csv', \n",
    "                            na_values=['...',np.nan])\n",
    "hazard_waste = pd.melt(hazard_waste, \n",
    "                       id_vars=[\"CountryID\", \"Country\"], \n",
    "                       var_name = 'Year', \n",
    "                       value_name= 'Percent of Generated Hazard Waste Treated')\n",
    "hazard_waste['Year'] = hazard_waste['Year'].astype(int)\n",
    "hazard_waste = hazard_waste.sort_values(['Country','Year'])\n",
    "hazard_waste.set_index('CountryID')\n",
    "hazard_waste = hazard_waste.dropna()\n",
    "hazard_waste"
   ]
  },
  {
   "cell_type": "code",
   "execution_count": null,
   "id": "9de54bc6-313d-4684-b403-a1b635ecc980",
   "metadata": {},
   "outputs": [],
   "source": [
    "pop_waste_coll = pd.read_csv('data_yearly/pop_wastewater_collection_yearly.csv', \n",
    "                             na_values=['...''…',np.nan])\n",
    "pop_waste_coll = pd.melt(pop_waste_coll, \n",
    "                         id_vars=[\"CountryID\", \"Country\"], \n",
    "                         var_name = 'Year', \n",
    "                         value_name='Population Collected Wastewater')\n",
    "pop_waste_coll['Year'] = pop_waste_coll['Year'].astype(int)\n",
    "pop_waste_coll = ghg.sort_values(['Country','Year'])\n",
    "pop_waste_coll.set_index('CountryID')\n",
    "pop_waste_coll = pop_waste_coll.dropna()\n",
    "pop_waste_coll"
   ]
  },
  {
   "cell_type": "code",
   "execution_count": null,
   "id": "d28d8241-9a1e-43df-99d9-721dd8b0f6d9",
   "metadata": {},
   "outputs": [],
   "source": [
    "ghg"
   ]
  },
  {
   "cell_type": "code",
   "execution_count": null,
   "id": "9812da25-3df5-4575-986d-99f01c6480ed",
   "metadata": {},
   "outputs": [],
   "source": [
    "#  Process to find string object and turn it into a NaN or a float\n",
    "\n",
    "\n",
    "# for item in pop_waste_coll['Population Collected Wastewater']:\n",
    "#     if isinstance(item,str):\n",
    "#        print('yes')\n",
    "#     else:\n",
    "#        print('')"
   ]
  },
  {
   "cell_type": "code",
   "execution_count": null,
   "id": "38ec4eee-4ea6-4903-b2ef-70d962845d2a",
   "metadata": {},
   "outputs": [],
   "source": [
    "pop_waste_coll['Population Collected Wastewater'] = pop_waste_coll['Population Collected Wastewater'].astype(str)\n",
    "pop_waste_coll['Population Collected Wastewater'] = pop_waste_coll['Population Collected Wastewater'].str.replace(r',', '', regex=True)\n",
    "pop_waste_coll[pop_waste_coll['Population Collected Wastewater'] == '...'] = np.nan\n",
    "pop_waste_coll[pop_waste_coll['Population Collected Wastewater'] == '…'] = np.nan\n",
    "pop_waste_coll['Population Collected Wastewater'] = pop_waste_coll['Population Collected Wastewater'].astype(float)"
   ]
  },
  {
   "cell_type": "code",
   "execution_count": null,
   "id": "6438c4d9-bad6-4488-8b1e-3a7581609601",
   "metadata": {},
   "outputs": [],
   "source": [
    "pop_waste_coll.dtypes"
   ]
  },
  {
   "cell_type": "code",
   "execution_count": null,
   "id": "085b6861-0e04-4e6a-a4a6-08bfaecf3f05",
   "metadata": {},
   "outputs": [],
   "source": [
    "len(pop_waste_coll['CountryID'].unique())"
   ]
  },
  {
   "cell_type": "code",
   "execution_count": null,
   "id": "45201f92-6145-4a57-acd9-21be42c8a8c5",
   "metadata": {},
   "outputs": [],
   "source": [
    "pop_waste_coll.dropna()\n",
    "len(pop_waste_coll['Country'].unique())"
   ]
  },
  {
   "cell_type": "code",
   "execution_count": null,
   "id": "89d1d60c-9a6d-4490-b861-8bb79f7373f3",
   "metadata": {},
   "outputs": [],
   "source": [
    "# pop_waste_coll['CountryID'] = pop_waste_coll['CountryID'].astype(int)"
   ]
  },
  {
   "cell_type": "code",
   "execution_count": null,
   "id": "b14742c7-30f2-423b-bb5a-62384daaf0b9",
   "metadata": {},
   "outputs": [],
   "source": [
    "pop_waste_treat = pd.read_csv('data_yearly/pop_wastewater_treatment_yearly.csv',na_values=['...',np.nan])\n",
    "pop_waste_treat = pd.melt(pop_waste_treat, id_vars=[\"CountryID\", \"Country\"], var_name = 'Year', value_name='Population Treatment Wastewater')\n",
    "pop_waste_treat['Year'] = pop_waste_treat['Year'].astype(int)\n",
    "pop_waste_treat = pop_waste_treat.sort_values(['Country','Year'])\n",
    "pop_waste_treat.set_index('CountryID')\n",
    "pop_waste_treat = pop_waste_treat.dropna()\n",
    "pop_waste_treat"
   ]
  },
  {
   "cell_type": "code",
   "execution_count": null,
   "id": "abfe799f-915f-4ab7-9b4f-7b095a467503",
   "metadata": {},
   "outputs": [],
   "source": [
    "precipitation = pd.read_csv('data_yearly/precipitation_yearly.csv', na_values = ['...',np.nan])\n",
    "precipitation = pd.melt(precipitation, id_vars=[\"CountryID\", \"Country\"], var_name = 'Year', value_name='Precipitation')\n",
    "precipitation['Year'] = precipitation['Year'].astype(int)\n",
    "precipitation = precipitation.sort_values(['Country','Year'])\n",
    "precipitation.set_index('CountryID')\n",
    "precipitation = precipitation.dropna()\n",
    "precipitation"
   ]
  },
  {
   "cell_type": "code",
   "execution_count": null,
   "id": "3c1c29f4-681f-4854-9295-174f9a43ca4d",
   "metadata": {},
   "outputs": [],
   "source": [
    "renewable_percent = pd.read_csv('data_yearly/renewable_electricity_percentage_yearly.csv', na_values = ['...',np.nan])\n",
    "renewable_percent = pd.melt(renewable_percent, id_vars=[\"CountryID\", \"Country and area\"], var_name = 'Year', value_name='Renewable Electricity')\n",
    "renewable_percent.columns = renewable_percent.columns.str.replace('Country and area','Country')\n",
    "renewable_percent['Year'] = renewable_percent['Year'].astype(int)\n",
    "renewable_percent = renewable_percent.sort_values(['Country','Year'])\n",
    "renewable_percent.set_index('CountryID')\n",
    "renewable_percent = renewable_percent.dropna()\n",
    "renewable_percent"
   ]
  },
  {
   "cell_type": "code",
   "execution_count": null,
   "id": "0a3a66cb-ad4e-4896-bfa4-62317d6097a2",
   "metadata": {},
   "outputs": [],
   "source": [
    "renew_fresh = pd.read_csv('data_yearly/renewable_freshwater_resources_yearly.csv', na_values = ['...',np.nan])\n",
    "renew_fresh = pd.melt(renew_fresh, id_vars=[\"CountryID\", \"Country\"], var_name = 'Year', value_name='Renewable Freshwater Resources')\n",
    "renew_fresh['Year'] = renew_fresh['Year'].astype(int)\n",
    "renew_fresh = renew_fresh.sort_values(['Country','Year'])\n",
    "renew_fresh.set_index('CountryID')\n",
    "renew_fresh = renew_fresh.dropna()\n",
    "renew_fresh"
   ]
  },
  {
   "cell_type": "code",
   "execution_count": null,
   "id": "5e9dbe29-7b1f-44fd-83c8-14ca1c882fbd",
   "metadata": {},
   "outputs": [],
   "source": [
    "## Didn't need data frames that could not be made into floats\n",
    "\n",
    "renew_fresh_pc = pd.read_csv('data_yearly/renewable_fwr_pc_yearly.csv', na_values = ['...',np.nan])\n",
    "renew_fresh_pc = pd.melt(renew_fresh_pc, id_vars=[\"CountryID\", \"Country\"], var_name = 'Year', value_name='Renewable Freshwater Per Capita')\n",
    "renew_fresh_pc['Year'] = renew_fresh_pc['Year'].astype(int)"
   ]
  },
  {
   "cell_type": "code",
   "execution_count": null,
   "id": "8ed52803-d7d3-4668-88d9-20594cb8e4ed",
   "metadata": {},
   "outputs": [],
   "source": [
    "renew_fresh_pc['Renewable Freshwater Per Capita'] = renew_fresh_pc['Renewable Freshwater Per Capita'].astype(str)\n",
    "renew_fresh_pc['Renewable Freshwater Per Capita'] = renew_fresh_pc['Renewable Freshwater Per Capita'].str.replace(r',', '', regex=True)\n",
    "renew_fresh_pc[renew_fresh_pc['Renewable Freshwater Per Capita'] == '...'] = np.nan\n",
    "renew_fresh_pc[renew_fresh_pc['Renewable Freshwater Per Capita'] == '…'] = np.nan\n",
    "renew_fresh_pc['Renewable Freshwater Per Capita'] = renew_fresh_pc['Renewable Freshwater Per Capita'].astype(float)"
   ]
  },
  {
   "cell_type": "code",
   "execution_count": null,
   "id": "e6583219-54b1-43a4-81b1-c331d274821e",
   "metadata": {},
   "outputs": [],
   "source": [
    "renew_fresh_pc = renew_fresh_pc.sort_values(['Country','Year'])\n",
    "renew_fresh_pc.set_index('CountryID')\n",
    "renew_fresh_pc = renew_fresh_pc.dropna()\n",
    "renew_fresh_pc"
   ]
  },
  {
   "cell_type": "code",
   "execution_count": null,
   "id": "cfffa113-e894-419f-b883-487d337c1a39",
   "metadata": {},
   "outputs": [],
   "source": [
    "renew_fresh_pc.dtypes"
   ]
  },
  {
   "cell_type": "code",
   "execution_count": null,
   "id": "dd46998b-964d-4a5c-835f-704d6d4a2617",
   "metadata": {},
   "outputs": [],
   "source": [
    "tot_wat_sup = pd.read_csv('data_yearly/total_pop_supplied_by_water_industry.csv', na_values = ['...',np.nan])\n",
    "tot_wat_sup = pd.melt(tot_wat_sup, id_vars=[\"CountryID\", \"Country\"], var_name = 'Year', value_name='Population Supplied by Water Industry')\n",
    "tot_wat_sup['Year'] = tot_wat_sup['Year'].astype(int)\n",
    "tot_wat_sup = tot_wat_sup.sort_values(['Country','Year'])\n",
    "tot_wat_sup.set_index('CountryID')\n",
    "tot_wat_sup = tot_wat_sup.dropna()\n",
    "tot_wat_sup"
   ]
  },
  {
   "cell_type": "code",
   "execution_count": null,
   "id": "9bd86c7e-5fa3-4f0b-8368-b183b25cfb64",
   "metadata": {},
   "outputs": [],
   "source": [
    "waste_gener = pd.read_csv('data_yearly/wastewater_generated_yearly.csv', na_values = ['...''…',np.nan])\n",
    "waste_gener = pd.melt(waste_gener, id_vars=[\"CountryID\", \"Country\"], var_name = 'Year', value_name='Wastewater Generated')"
   ]
  },
  {
   "cell_type": "code",
   "execution_count": null,
   "id": "e0a8a417-034c-4733-8b3d-9dd4c597a31b",
   "metadata": {},
   "outputs": [],
   "source": [
    "waste_gener['Wastewater Generated'] = waste_gener['Wastewater Generated'].astype(str)\n",
    "waste_gener['Wastewater Generated'] = waste_gener['Wastewater Generated'].str.replace(r',', '', regex=True)\n",
    "waste_gener[waste_gener['Wastewater Generated'] == '...'] = np.nan\n",
    "waste_gener[waste_gener['Wastewater Generated'] == '…'] = np.nan\n",
    "waste_gener['Wastewater Generated'] = waste_gener['Wastewater Generated'].astype(float)"
   ]
  },
  {
   "cell_type": "code",
   "execution_count": null,
   "id": "cd8c8757-a875-4b31-bd48-5076a647a719",
   "metadata": {},
   "outputs": [],
   "source": [
    "len(waste_gener.Year.isna())"
   ]
  },
  {
   "cell_type": "code",
   "execution_count": null,
   "id": "5bd03e7d-7159-4211-802d-f48d53cd5c91",
   "metadata": {},
   "outputs": [],
   "source": [
    "waste_gener.dropna()"
   ]
  },
  {
   "cell_type": "code",
   "execution_count": null,
   "id": "2bafeda6-b389-4752-909c-65080b29d586",
   "metadata": {},
   "outputs": [],
   "source": [
    "##### Example of unsalvageable dataset\n",
    "\n",
    "# waste_gener['Year'] = waste_gener['Year'].astype(int)\n",
    "# waste_gener.dtypes"
   ]
  },
  {
   "cell_type": "code",
   "execution_count": null,
   "id": "8f28a9c9-74c8-4fe6-826f-d526c78e0ad3",
   "metadata": {},
   "outputs": [],
   "source": [
    "fresh_gw = pd.read_csv('data_yearly/fresh_groundwater_yearly.csv', na_values = ['...',np.nan])\n",
    "fresh_gw = pd.melt(fresh_gw, id_vars=[\"CountryID\", \"Country\"], var_name = 'Year', value_name='Fresh Groundwater')\n",
    "fresh_gw['Year'] = fresh_gw['Year'].astype(int)\n",
    "fresh_gw = fresh_gw.sort_values(['Country','Year'])\n",
    "fresh_gw.set_index('CountryID')\n",
    "fresh_gw = fresh_gw.dropna()\n",
    "fresh_gw"
   ]
  },
  {
   "cell_type": "code",
   "execution_count": null,
   "id": "f9cca33c-531a-446a-b98d-3e8d36e4e0bc",
   "metadata": {},
   "outputs": [],
   "source": [
    "fresh_sw = pd.read_csv('data_yearly/fresh_surface_water_yearly.csv', na_values=['...',np.nan])\n",
    "fresh_sw = pd.melt(fresh_sw, id_vars=[\"CountryID\", \"Country\"], var_name = 'Year', value_name='Fresh Surface Water')\n",
    "fresh_sw['Year'] = fresh_sw['Year'].astype(int)\n",
    "fresh_sw = fresh_sw.sort_values(['Country','Year'])\n",
    "fresh_sw.set_index('CountryID')\n",
    "fresh_sw = fresh_sw.dropna()\n",
    "fresh_sw"
   ]
  },
  {
   "cell_type": "code",
   "execution_count": null,
   "id": "de403388-6459-4201-8992-072ff84288dc",
   "metadata": {},
   "outputs": [],
   "source": []
  },
  {
   "cell_type": "code",
   "execution_count": null,
   "id": "3486c6e0-e47c-437f-8294-57c6b7892e0c",
   "metadata": {},
   "outputs": [],
   "source": [
    "world_happi = pd.read_csv('data_yearly/world_happiness_report_yearly.csv', na_values = ['...',np.nan])\n",
    "world_happi.columns = world_happi.columns.str.replace('Country name','Country')\n",
    "world_happi.columns = world_happi.columns.str.replace('year','Year')\n",
    "world_happi['Year'] = world_happi['Year'].astype(int)\n",
    "countryid = ghg['CountryID']\n",
    "world_happi = world_happi.join(ghg['CountryID'])\n",
    "world_happi = world_happi.set_index('CountryID')\n",
    "world_happi = world_happi.dropna()\n",
    "world_happi"
   ]
  },
  {
   "cell_type": "code",
   "execution_count": null,
   "id": "c8dd78d2-8b66-4a52-9cfa-e698f8edb9bd",
   "metadata": {},
   "outputs": [],
   "source": [
    "# List of dataframes\n",
    "\n",
    "# Decided not to use globals method, to preserve \n",
    "# list of original dataframes after creating new\n",
    "# dataframes. *Excluded dataframes that could not\n",
    "# be converted to float values.* \n",
    "# \n",
    "# d = globals()\n",
    "# df_list = [v for k, v in d.items() if isinstance(v, pd.DataFrame)]\n",
    "# df_list\n",
    "\n",
    "dfs = [world_happi, fresh_sw, fresh_gw, tot_wat_sup, \n",
    "       renew_fresh, renew_fresh_pc, renewable_percent, precipitation, \n",
    "       pop_waste_treat, hazard_waste, nt_ww, ghg, freshwater, \n",
    "       evapotran, energy_supply, energy_supply_pc, energy_intensity]\n",
    "water_dfs = [freshwater, fresh_gw, fresh_sw, renew_fresh, \n",
    "             renew_fresh_pc, tot_wat_sup, precipitation, evapotran]\n",
    "waste_dfs = [pop_waste_treat, hazard_waste, nt_ww]\n",
    "energy_dfs = [renewable_percent, ghg, energy_supply, energy_supply_pc, energy_intensity]\n",
    "\n",
    "# all viable lists are assigned to topics, [1] accounts for world_happi\n",
    "len(dfs) == len(energy_dfs + waste_dfs + water_dfs + [1])"
   ]
  },
  {
   "cell_type": "code",
   "execution_count": null,
   "id": "800d296a-357f-4794-b674-6022b74718c5",
   "metadata": {},
   "outputs": [],
   "source": [
    "# Checking homogeneity of data types\n",
    "\n",
    "list(map(lambda x: x.dtypes, dfs))"
   ]
  },
  {
   "cell_type": "code",
   "execution_count": null,
   "id": "178d9161-dfcd-4a3d-9adc-a43f4869431e",
   "metadata": {},
   "outputs": [],
   "source": [
    "# Merging water list\n",
    "\n",
    "water = reduce(lambda x,y: pd.merge(x,y, how = 'left', on = ['CountryID', 'Country', 'Year'], sort=True), water_dfs)\n",
    "water"
   ]
  },
  {
   "cell_type": "code",
   "execution_count": null,
   "id": "d9de61cb-3d45-41d3-b821-ff636c83967b",
   "metadata": {},
   "outputs": [],
   "source": [
    "len(water.Country.unique())"
   ]
  },
  {
   "cell_type": "code",
   "execution_count": null,
   "id": "3a6a58f9-f5e2-4d3f-8326-acda3bb8a4d7",
   "metadata": {},
   "outputs": [],
   "source": [
    "# Check how many countries have all the data across elements\n",
    "\n",
    "in_water = water.dropna()"
   ]
  },
  {
   "cell_type": "code",
   "execution_count": null,
   "id": "56e14fa1-78ba-4d23-92a4-011264d380bd",
   "metadata": {},
   "outputs": [],
   "source": [
    "len(in_water.Country.unique())"
   ]
  },
  {
   "cell_type": "code",
   "execution_count": null,
   "id": "7ca62aff-4590-4993-9a8d-184615dbd0cd",
   "metadata": {},
   "outputs": [],
   "source": [
    "# Merge energy dataframe, check inner-merge countries\n",
    "\n",
    "energy = reduce(lambda x,y: pd.merge(x,y, how = 'left', on = ['CountryID','Country','Year'], sort=True), energy_dfs)\n",
    "energy"
   ]
  },
  {
   "cell_type": "code",
   "execution_count": null,
   "id": "0dc5b574-ab4d-46d7-95f7-137319d9ab8e",
   "metadata": {},
   "outputs": [],
   "source": [
    "len(energy['Country'].unique())"
   ]
  },
  {
   "cell_type": "code",
   "execution_count": null,
   "id": "e3d1b2fe-732b-4ba6-9356-3238596e7038",
   "metadata": {},
   "outputs": [],
   "source": [
    "in_energy = energy.dropna()\n",
    "len(in_energy['Country'].unique())"
   ]
  },
  {
   "cell_type": "code",
   "execution_count": null,
   "id": "547abd4c-018e-4ed8-852b-1c7ad1b29c99",
   "metadata": {},
   "outputs": [],
   "source": [
    "# Merge waste dataframes and check how many countries with no NaN\n",
    "\n",
    "waste = reduce(lambda x,y: pd.merge(x,y,how='left',on=['CountryID','Country','Year'],sort=True), waste_dfs)\n",
    "waste              "
   ]
  },
  {
   "cell_type": "code",
   "execution_count": null,
   "id": "907a8b37-c41b-4554-b089-25db85562fa3",
   "metadata": {},
   "outputs": [],
   "source": [
    "len(waste.Country.unique())"
   ]
  },
  {
   "cell_type": "code",
   "execution_count": null,
   "id": "31cf830d-2680-4a7e-a2ab-086e376d18ba",
   "metadata": {},
   "outputs": [],
   "source": [
    "in_waste = waste.dropna()\n",
    "len(in_waste.Country.unique())"
   ]
  },
  {
   "cell_type": "code",
   "execution_count": null,
   "id": "48adab88-c18f-4267-8a77-1a4fbe336616",
   "metadata": {},
   "outputs": [],
   "source": [
    "world_happi"
   ]
  },
  {
   "cell_type": "code",
   "execution_count": null,
   "id": "1e649359-9913-4f7e-a818-417d9317e8e7",
   "metadata": {},
   "outputs": [],
   "source": [
    "#### Added sets post initial investigation\n",
    "\n",
    "climat_dis = pd.read_csv('additional_data/Climatological disasters.csv', \n",
    "                         na_values = ['...',np.nan])\n",
    "fertilizers = pd.read_csv('additional_data/Consumption of fertilizers per unit of agricultural land area.csv', \n",
    "                         na_values = ['...',np.nan])\n",
    "forest = pd.read_csv('additional_data/Forest Area.csv', \n",
    "                         na_values = ['...',np.nan])\n",
    "geo_dis = pd.read_csv('additional_data/Geophysical disasters.csv', \n",
    "                         na_values = ['...',np.nan])\n",
    "hydro_dis = pd.read_csv('additional_data/Hydrological disasters.csv', \n",
    "                         na_values = ['...',np.nan])\n",
    "meteo_dis = pd.read_csv('additional_data/Meteorological disasters.csv', \n",
    "                         na_values = ['...',np.nan])\n",
    "terre_prot = pd.read_csv('additional_data/Terrestrial protected areas.csv', \n",
    "                         na_values = ['...',np.nan])"
   ]
  },
  {
   "cell_type": "code",
   "execution_count": null,
   "id": "b4a7938b-1d21-4718-8959-8648ef13741c",
   "metadata": {},
   "outputs": [],
   "source": [
    "climat_dis"
   ]
  },
  {
   "cell_type": "code",
   "execution_count": null,
   "id": "5a556881-4ff6-446a-af9b-edbc855207e4",
   "metadata": {},
   "outputs": [],
   "source": [
    "climat_dis = pd.melt(climat_dis, id_vars=[\"CountryID\", \"Country\"], var_name = 'Year', value_name= 'Disasters')\n",
    "climat_dis = climat_dis.sort_values(['Country','Year'])\n",
    "climat_dis.set_index('CountryID')\n",
    "climat_dis = climat_dis.dropna()\n",
    "climat_dis.dtypes"
   ]
  },
  {
   "cell_type": "code",
   "execution_count": null,
   "id": "d01a71eb-399b-4fc9-a558-cd1c8ddad631",
   "metadata": {},
   "outputs": [],
   "source": [
    "# waste_gener['Wastewater Generated'] = waste_gener['Wastewater Generated'].astype(str)\n",
    "# waste_gener['Wastewater Generated'] = waste_gener['Wastewater Generated'].str.replace(r',', '', regex=True)\n",
    "# waste_gener[waste_gener['Wastewater Generated'] == '...'] = np.nan\n",
    "# waste_gener[waste_gener['Wastewater Generated'] == '…'] = np.nan\n",
    "# waste_gener['Wastewater Generated'] = waste_gener['Wastewater Generated'].astype(float)\n",
    "# climat_dis.dtypes"
   ]
  },
  {
   "cell_type": "code",
   "execution_count": null,
   "id": "2aca1e29-e9d3-4dcf-9f25-f3ec92885032",
   "metadata": {},
   "outputs": [],
   "source": [
    "### New lists of dataframes\n",
    "\n",
    "disasters = [climat_dis, geo_dis"
   ]
  },
  {
   "cell_type": "code",
   "execution_count": null,
   "id": "ae507214-0428-4d93-8f80-0c877894a7f8",
   "metadata": {},
   "outputs": [],
   "source": [
    "# Lists of datafames (for reference)\n",
    "#\n",
    "#\n",
    "# dfs = [world_happi, fresh_sw, fresh_gw, tot_wat_sup, \n",
    "#        renew_fresh, renew_fresh_pc, renewable_percent, precipitation, \n",
    "#        pop_waste_treat, hazard_waste, nt_ww, ghg, freshwater, \n",
    "#        evapotran, energy_supply, energy_supply_pc, energy_intensity]\n",
    "# water_dfs = [freshwater, fresh_gw, fresh_sw, renew_fresh, \n",
    "#              renew_fresh_pc, tot_wat_sup, precipitation, evapotran]\n",
    "# waste_dfs = [pop_waste_treat, hazard_waste, nt_ww]\n",
    "# energy_dfs = [renewable_percent, ghg, energy_supply, energy_supply_pc, energy_intensity]\n"
   ]
  },
  {
   "cell_type": "code",
   "execution_count": null,
   "id": "194019b8-6c2f-47c1-ab86-ea23ab48afd0",
   "metadata": {},
   "outputs": [],
   "source": [
    "### Export cleaned and merged dataframes to csv files ###\n",
    "import csv\n",
    "\n",
    "water.to_csv('cleaned data/Water-Related Indicators.csv', index=False)\n",
    "in_water.to_csv('cleaned data/Water-Related Indicators No NA.csv', index=False)\n",
    "energy.to_csv('cleaned data/Energy-Related Indicators.csv', index=False)\n",
    "in_energy.to_csv('cleaned data/Energy-Related Indicators No NA.csv', index=False)\n",
    "waste.to_csv('cleaned data/Waste-Related Indicators.csv', index=False)\n",
    "in_waste.to_csv('cleaned data/Waste-Related Indicators No NA.csv', index=False)\n",
    "world_happi.to_csv('cleaned data/World Happiness Report.csv', index=False)"
   ]
  },
  {
   "cell_type": "code",
   "execution_count": null,
   "id": "ba919310-58d3-45cb-93cb-a605011715c4",
   "metadata": {},
   "outputs": [],
   "source": []
  }
 ],
 "metadata": {
  "kernelspec": {
   "display_name": "Python 3",
   "language": "python",
   "name": "python3"
  },
  "language_info": {
   "codemirror_mode": {
    "name": "ipython",
    "version": 3
   },
   "file_extension": ".py",
   "mimetype": "text/x-python",
   "name": "python",
   "nbconvert_exporter": "python",
   "pygments_lexer": "ipython3",
   "version": "3.8.8"
  }
 },
 "nbformat": 4,
 "nbformat_minor": 5
}
